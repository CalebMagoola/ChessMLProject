{
 "cells": [
  {
   "cell_type": "code",
   "execution_count": 4,
   "id": "c37e46e8-6d01-48da-978a-6a3023b8b85d",
   "metadata": {},
   "outputs": [],
   "source": [
    "import sklearn\n",
    "import numpy as np\n",
    "import pandas as pd\n",
    "import matplotlib.pyplot as plt\n",
    "from sklearn.model_selection import train_test_split\n",
    "from sklearn.preprocessing import StandardScaler\n",
    "from sklearn.linear_model import LinearRegression\n",
    "from sklearn.metrics import mean_squared_error \n",
    "from sklearn.model_selection import cross_val_score\n",
    "import math"
   ]
  },
  {
   "cell_type": "code",
   "execution_count": 7,
   "id": "d50e5c16-b6e0-495a-a57f-b3317d0fffa7",
   "metadata": {},
   "outputs": [
    {
     "data": {
      "text/html": [
       "<div>\n",
       "<style scoped>\n",
       "    .dataframe tbody tr th:only-of-type {\n",
       "        vertical-align: middle;\n",
       "    }\n",
       "\n",
       "    .dataframe tbody tr th {\n",
       "        vertical-align: top;\n",
       "    }\n",
       "\n",
       "    .dataframe thead th {\n",
       "        text-align: right;\n",
       "    }\n",
       "</style>\n",
       "<table border=\"1\" class=\"dataframe\">\n",
       "  <thead>\n",
       "    <tr style=\"text-align: right;\">\n",
       "      <th></th>\n",
       "      <th>FEN</th>\n",
       "      <th>Evaluation</th>\n",
       "    </tr>\n",
       "  </thead>\n",
       "  <tbody>\n",
       "    <tr>\n",
       "      <th>0</th>\n",
       "      <td>rnbqkbnr/pppppppp/8/8/4P3/8/PPPP1PPP/RNBQKBNR ...</td>\n",
       "      <td>-10</td>\n",
       "    </tr>\n",
       "    <tr>\n",
       "      <th>1</th>\n",
       "      <td>rnbqkbnr/pppp1ppp/4p3/8/4P3/8/PPPP1PPP/RNBQKBN...</td>\n",
       "      <td>+56</td>\n",
       "    </tr>\n",
       "    <tr>\n",
       "      <th>2</th>\n",
       "      <td>rnbqkbnr/pppp1ppp/4p3/8/3PP3/8/PPP2PPP/RNBQKBN...</td>\n",
       "      <td>-9</td>\n",
       "    </tr>\n",
       "    <tr>\n",
       "      <th>3</th>\n",
       "      <td>rnbqkbnr/ppp2ppp/4p3/3p4/3PP3/8/PPP2PPP/RNBQKB...</td>\n",
       "      <td>+52</td>\n",
       "    </tr>\n",
       "    <tr>\n",
       "      <th>4</th>\n",
       "      <td>rnbqkbnr/ppp2ppp/4p3/3p4/3PP3/8/PPPN1PPP/R1BQK...</td>\n",
       "      <td>-26</td>\n",
       "    </tr>\n",
       "  </tbody>\n",
       "</table>\n",
       "</div>"
      ],
      "text/plain": [
       "                                                 FEN Evaluation\n",
       "0  rnbqkbnr/pppppppp/8/8/4P3/8/PPPP1PPP/RNBQKBNR ...        -10\n",
       "1  rnbqkbnr/pppp1ppp/4p3/8/4P3/8/PPPP1PPP/RNBQKBN...        +56\n",
       "2  rnbqkbnr/pppp1ppp/4p3/8/3PP3/8/PPP2PPP/RNBQKBN...         -9\n",
       "3  rnbqkbnr/ppp2ppp/4p3/3p4/3PP3/8/PPP2PPP/RNBQKB...        +52\n",
       "4  rnbqkbnr/ppp2ppp/4p3/3p4/3PP3/8/PPPN1PPP/R1BQK...        -26"
      ]
     },
     "execution_count": 7,
     "metadata": {},
     "output_type": "execute_result"
    }
   ],
   "source": [
    "df = pd.read_csv(\"chessData.csv\")\n",
    "df.head()"
   ]
  },
  {
   "cell_type": "code",
   "execution_count": 8,
   "id": "9e68d8c0-29ad-41cf-a4ac-c96b305cc372",
   "metadata": {},
   "outputs": [
    {
     "name": "stdout",
     "output_type": "stream",
     "text": [
      "<class 'pandas.core.frame.DataFrame'>\n",
      "RangeIndex: 12958035 entries, 0 to 12958034\n",
      "Data columns (total 2 columns):\n",
      " #   Column      Dtype \n",
      "---  ------      ----- \n",
      " 0   FEN         object\n",
      " 1   Evaluation  object\n",
      "dtypes: object(2)\n",
      "memory usage: 197.7+ MB\n"
     ]
    }
   ],
   "source": [
    "df.info()"
   ]
  },
  {
   "cell_type": "code",
   "execution_count": 9,
   "id": "ffbdc21e-f566-4ce5-9936-b109bf2f2042",
   "metadata": {},
   "outputs": [
    {
     "data": {
      "text/plain": [
       "0           rnbqkbnr/pppppppp/8/8/4P3/8/PPPP1PPP/RNBQKBNR ...\n",
       "1           rnbqkbnr/pppp1ppp/4p3/8/4P3/8/PPPP1PPP/RNBQKBN...\n",
       "2           rnbqkbnr/pppp1ppp/4p3/8/3PP3/8/PPP2PPP/RNBQKBN...\n",
       "3           rnbqkbnr/ppp2ppp/4p3/3p4/3PP3/8/PPP2PPP/RNBQKB...\n",
       "4           rnbqkbnr/ppp2ppp/4p3/3p4/3PP3/8/PPPN1PPP/R1BQK...\n",
       "                                  ...                        \n",
       "12958030    r1bqkb1r/pp3ppp/1nn1p3/3pP3/3P1P2/1B3N2/PP2Q1P...\n",
       "12958031    r2qkb1r/pp1b1ppp/1nn1p3/3pP3/3P1P2/1B3N2/PP2Q1...\n",
       "12958032    r2qkb1r/pp1b1ppp/1nn1p3/3pP3/3P1P2/1BN2N2/PP2Q...\n",
       "12958033    r2qkb1r/pp1b1ppp/1n2p3/n2pP3/3P1P2/1BN2N2/PP2Q...\n",
       "12958034    r2qkb1r/pp1b1ppp/1n2p3/n2pP3/3P1P2/2N2N2/PPB1Q...\n",
       "Name: FEN, Length: 12958035, dtype: object"
      ]
     },
     "execution_count": 9,
     "metadata": {},
     "output_type": "execute_result"
    }
   ],
   "source": [
    "df[\"FEN\"]"
   ]
  },
  {
   "cell_type": "code",
   "execution_count": 10,
   "id": "d73d644f-db50-4199-ad9c-a55f5f46739b",
   "metadata": {},
   "outputs": [],
   "source": [
    "df[[\"row1\", \"row2\", \"row3\", \"row4\", \"row5\", \"row6\", \"row7\", \"leftover_data\"]] = df[\"FEN\"].str.split('/', expand=True)"
   ]
  },
  {
   "cell_type": "code",
   "execution_count": 11,
   "id": "888efd1a-08a9-4175-a1f6-6eff022a1ad4",
   "metadata": {},
   "outputs": [
    {
     "data": {
      "text/html": [
       "<div>\n",
       "<style scoped>\n",
       "    .dataframe tbody tr th:only-of-type {\n",
       "        vertical-align: middle;\n",
       "    }\n",
       "\n",
       "    .dataframe tbody tr th {\n",
       "        vertical-align: top;\n",
       "    }\n",
       "\n",
       "    .dataframe thead th {\n",
       "        text-align: right;\n",
       "    }\n",
       "</style>\n",
       "<table border=\"1\" class=\"dataframe\">\n",
       "  <thead>\n",
       "    <tr style=\"text-align: right;\">\n",
       "      <th></th>\n",
       "      <th>Evaluation</th>\n",
       "      <th>row1</th>\n",
       "      <th>row2</th>\n",
       "      <th>row3</th>\n",
       "      <th>row4</th>\n",
       "      <th>row5</th>\n",
       "      <th>row6</th>\n",
       "      <th>row7</th>\n",
       "      <th>leftover_data</th>\n",
       "    </tr>\n",
       "  </thead>\n",
       "  <tbody>\n",
       "    <tr>\n",
       "      <th>0</th>\n",
       "      <td>-10</td>\n",
       "      <td>rnbqkbnr</td>\n",
       "      <td>pppppppp</td>\n",
       "      <td>8</td>\n",
       "      <td>8</td>\n",
       "      <td>4P3</td>\n",
       "      <td>8</td>\n",
       "      <td>PPPP1PPP</td>\n",
       "      <td>RNBQKBNR b KQkq - 0 1</td>\n",
       "    </tr>\n",
       "    <tr>\n",
       "      <th>1</th>\n",
       "      <td>+56</td>\n",
       "      <td>rnbqkbnr</td>\n",
       "      <td>pppp1ppp</td>\n",
       "      <td>4p3</td>\n",
       "      <td>8</td>\n",
       "      <td>4P3</td>\n",
       "      <td>8</td>\n",
       "      <td>PPPP1PPP</td>\n",
       "      <td>RNBQKBNR w KQkq - 0 2</td>\n",
       "    </tr>\n",
       "    <tr>\n",
       "      <th>2</th>\n",
       "      <td>-9</td>\n",
       "      <td>rnbqkbnr</td>\n",
       "      <td>pppp1ppp</td>\n",
       "      <td>4p3</td>\n",
       "      <td>8</td>\n",
       "      <td>3PP3</td>\n",
       "      <td>8</td>\n",
       "      <td>PPP2PPP</td>\n",
       "      <td>RNBQKBNR b KQkq - 0 2</td>\n",
       "    </tr>\n",
       "    <tr>\n",
       "      <th>3</th>\n",
       "      <td>+52</td>\n",
       "      <td>rnbqkbnr</td>\n",
       "      <td>ppp2ppp</td>\n",
       "      <td>4p3</td>\n",
       "      <td>3p4</td>\n",
       "      <td>3PP3</td>\n",
       "      <td>8</td>\n",
       "      <td>PPP2PPP</td>\n",
       "      <td>RNBQKBNR w KQkq - 0 3</td>\n",
       "    </tr>\n",
       "    <tr>\n",
       "      <th>4</th>\n",
       "      <td>-26</td>\n",
       "      <td>rnbqkbnr</td>\n",
       "      <td>ppp2ppp</td>\n",
       "      <td>4p3</td>\n",
       "      <td>3p4</td>\n",
       "      <td>3PP3</td>\n",
       "      <td>8</td>\n",
       "      <td>PPPN1PPP</td>\n",
       "      <td>R1BQKBNR b KQkq - 1 3</td>\n",
       "    </tr>\n",
       "  </tbody>\n",
       "</table>\n",
       "</div>"
      ],
      "text/plain": [
       "  Evaluation      row1      row2 row3 row4  row5 row6      row7  \\\n",
       "0        -10  rnbqkbnr  pppppppp    8    8   4P3    8  PPPP1PPP   \n",
       "1        +56  rnbqkbnr  pppp1ppp  4p3    8   4P3    8  PPPP1PPP   \n",
       "2         -9  rnbqkbnr  pppp1ppp  4p3    8  3PP3    8   PPP2PPP   \n",
       "3        +52  rnbqkbnr   ppp2ppp  4p3  3p4  3PP3    8   PPP2PPP   \n",
       "4        -26  rnbqkbnr   ppp2ppp  4p3  3p4  3PP3    8  PPPN1PPP   \n",
       "\n",
       "           leftover_data  \n",
       "0  RNBQKBNR b KQkq - 0 1  \n",
       "1  RNBQKBNR w KQkq - 0 2  \n",
       "2  RNBQKBNR b KQkq - 0 2  \n",
       "3  RNBQKBNR w KQkq - 0 3  \n",
       "4  R1BQKBNR b KQkq - 1 3  "
      ]
     },
     "execution_count": 11,
     "metadata": {},
     "output_type": "execute_result"
    }
   ],
   "source": [
    "df.drop(columns=['FEN'], inplace=True)\n",
    "df.head()"
   ]
  },
  {
   "cell_type": "code",
   "execution_count": 12,
   "id": "172f9128-d104-4b64-be4e-ad8385c8fa21",
   "metadata": {},
   "outputs": [],
   "source": [
    "df[[\"row8\",\"active_color\", \"castle\", \"en_passant\", \"halfmove_clock\", \"fullmove_num\"]] = df[\"leftover_data\"].str.split(\" \", expand=True)"
   ]
  },
  {
   "cell_type": "code",
   "execution_count": 13,
   "id": "0a175a26-3f1e-4b7a-b17e-86fa3e263b10",
   "metadata": {},
   "outputs": [
    {
     "data": {
      "text/html": [
       "<div>\n",
       "<style scoped>\n",
       "    .dataframe tbody tr th:only-of-type {\n",
       "        vertical-align: middle;\n",
       "    }\n",
       "\n",
       "    .dataframe tbody tr th {\n",
       "        vertical-align: top;\n",
       "    }\n",
       "\n",
       "    .dataframe thead th {\n",
       "        text-align: right;\n",
       "    }\n",
       "</style>\n",
       "<table border=\"1\" class=\"dataframe\">\n",
       "  <thead>\n",
       "    <tr style=\"text-align: right;\">\n",
       "      <th></th>\n",
       "      <th>Evaluation</th>\n",
       "      <th>row1</th>\n",
       "      <th>row2</th>\n",
       "      <th>row3</th>\n",
       "      <th>row4</th>\n",
       "      <th>row5</th>\n",
       "      <th>row6</th>\n",
       "      <th>row7</th>\n",
       "      <th>row8</th>\n",
       "      <th>active_color</th>\n",
       "      <th>castle</th>\n",
       "      <th>en_passant</th>\n",
       "      <th>halfmove_clock</th>\n",
       "      <th>fullmove_num</th>\n",
       "    </tr>\n",
       "  </thead>\n",
       "  <tbody>\n",
       "    <tr>\n",
       "      <th>0</th>\n",
       "      <td>-10</td>\n",
       "      <td>rnbqkbnr</td>\n",
       "      <td>pppppppp</td>\n",
       "      <td>8</td>\n",
       "      <td>8</td>\n",
       "      <td>4P3</td>\n",
       "      <td>8</td>\n",
       "      <td>PPPP1PPP</td>\n",
       "      <td>RNBQKBNR</td>\n",
       "      <td>b</td>\n",
       "      <td>KQkq</td>\n",
       "      <td>-</td>\n",
       "      <td>0</td>\n",
       "      <td>1</td>\n",
       "    </tr>\n",
       "    <tr>\n",
       "      <th>1</th>\n",
       "      <td>+56</td>\n",
       "      <td>rnbqkbnr</td>\n",
       "      <td>pppp1ppp</td>\n",
       "      <td>4p3</td>\n",
       "      <td>8</td>\n",
       "      <td>4P3</td>\n",
       "      <td>8</td>\n",
       "      <td>PPPP1PPP</td>\n",
       "      <td>RNBQKBNR</td>\n",
       "      <td>w</td>\n",
       "      <td>KQkq</td>\n",
       "      <td>-</td>\n",
       "      <td>0</td>\n",
       "      <td>2</td>\n",
       "    </tr>\n",
       "    <tr>\n",
       "      <th>2</th>\n",
       "      <td>-9</td>\n",
       "      <td>rnbqkbnr</td>\n",
       "      <td>pppp1ppp</td>\n",
       "      <td>4p3</td>\n",
       "      <td>8</td>\n",
       "      <td>3PP3</td>\n",
       "      <td>8</td>\n",
       "      <td>PPP2PPP</td>\n",
       "      <td>RNBQKBNR</td>\n",
       "      <td>b</td>\n",
       "      <td>KQkq</td>\n",
       "      <td>-</td>\n",
       "      <td>0</td>\n",
       "      <td>2</td>\n",
       "    </tr>\n",
       "    <tr>\n",
       "      <th>3</th>\n",
       "      <td>+52</td>\n",
       "      <td>rnbqkbnr</td>\n",
       "      <td>ppp2ppp</td>\n",
       "      <td>4p3</td>\n",
       "      <td>3p4</td>\n",
       "      <td>3PP3</td>\n",
       "      <td>8</td>\n",
       "      <td>PPP2PPP</td>\n",
       "      <td>RNBQKBNR</td>\n",
       "      <td>w</td>\n",
       "      <td>KQkq</td>\n",
       "      <td>-</td>\n",
       "      <td>0</td>\n",
       "      <td>3</td>\n",
       "    </tr>\n",
       "    <tr>\n",
       "      <th>4</th>\n",
       "      <td>-26</td>\n",
       "      <td>rnbqkbnr</td>\n",
       "      <td>ppp2ppp</td>\n",
       "      <td>4p3</td>\n",
       "      <td>3p4</td>\n",
       "      <td>3PP3</td>\n",
       "      <td>8</td>\n",
       "      <td>PPPN1PPP</td>\n",
       "      <td>R1BQKBNR</td>\n",
       "      <td>b</td>\n",
       "      <td>KQkq</td>\n",
       "      <td>-</td>\n",
       "      <td>1</td>\n",
       "      <td>3</td>\n",
       "    </tr>\n",
       "  </tbody>\n",
       "</table>\n",
       "</div>"
      ],
      "text/plain": [
       "  Evaluation      row1      row2 row3 row4  row5 row6      row7      row8  \\\n",
       "0        -10  rnbqkbnr  pppppppp    8    8   4P3    8  PPPP1PPP  RNBQKBNR   \n",
       "1        +56  rnbqkbnr  pppp1ppp  4p3    8   4P3    8  PPPP1PPP  RNBQKBNR   \n",
       "2         -9  rnbqkbnr  pppp1ppp  4p3    8  3PP3    8   PPP2PPP  RNBQKBNR   \n",
       "3        +52  rnbqkbnr   ppp2ppp  4p3  3p4  3PP3    8   PPP2PPP  RNBQKBNR   \n",
       "4        -26  rnbqkbnr   ppp2ppp  4p3  3p4  3PP3    8  PPPN1PPP  R1BQKBNR   \n",
       "\n",
       "  active_color castle en_passant halfmove_clock fullmove_num  \n",
       "0            b   KQkq          -              0            1  \n",
       "1            w   KQkq          -              0            2  \n",
       "2            b   KQkq          -              0            2  \n",
       "3            w   KQkq          -              0            3  \n",
       "4            b   KQkq          -              1            3  "
      ]
     },
     "execution_count": 13,
     "metadata": {},
     "output_type": "execute_result"
    }
   ],
   "source": [
    "df.drop(columns=['leftover_data'], inplace=True)\n",
    "df.head()"
   ]
  },
  {
   "cell_type": "code",
   "execution_count": 14,
   "id": "6650c41e-a82e-482f-b213-0fdb65eb59f2",
   "metadata": {},
   "outputs": [
    {
     "name": "stdout",
     "output_type": "stream",
     "text": [
      "<class 'pandas.core.frame.DataFrame'>\n",
      "RangeIndex: 12958035 entries, 0 to 12958034\n",
      "Data columns (total 14 columns):\n",
      " #   Column          Dtype \n",
      "---  ------          ----- \n",
      " 0   Evaluation      int64 \n",
      " 1   row1            object\n",
      " 2   row2            object\n",
      " 3   row3            object\n",
      " 4   row4            object\n",
      " 5   row5            object\n",
      " 6   row6            object\n",
      " 7   row7            object\n",
      " 8   row8            object\n",
      " 9   active_color    object\n",
      " 10  castle          object\n",
      " 11  en_passant      object\n",
      " 12  halfmove_clock  int64 \n",
      " 13  fullmove_num    int64 \n",
      "dtypes: int64(3), object(11)\n",
      "memory usage: 1.4+ GB\n"
     ]
    }
   ],
   "source": [
    "df['halfmove_clock'] = df['halfmove_clock'].astype(int)\n",
    "df['fullmove_num'] = df['fullmove_num'].astype(int)\n",
    "df['Evaluation'] = df['Evaluation'].str.replace('[^\\d-]+', '', regex=True).astype(int)\n",
    "df.info()"
   ]
  },
  {
   "cell_type": "code",
   "execution_count": 15,
   "id": "4849ed2b-05d0-4fbb-902d-98328a18aae1",
   "metadata": {},
   "outputs": [
    {
     "data": {
      "text/plain": [
       "active_color\n",
       "b    6484130\n",
       "w    6473905\n",
       "Name: count, dtype: int64"
      ]
     },
     "execution_count": 15,
     "metadata": {},
     "output_type": "execute_result"
    }
   ],
   "source": [
    "df[\"active_color\"].value_counts()"
   ]
  },
  {
   "cell_type": "code",
   "execution_count": 16,
   "id": "e6a23428-7792-414e-af48-d4fdc86effd3",
   "metadata": {},
   "outputs": [
    {
     "data": {
      "text/html": [
       "<div>\n",
       "<style scoped>\n",
       "    .dataframe tbody tr th:only-of-type {\n",
       "        vertical-align: middle;\n",
       "    }\n",
       "\n",
       "    .dataframe tbody tr th {\n",
       "        vertical-align: top;\n",
       "    }\n",
       "\n",
       "    .dataframe thead th {\n",
       "        text-align: right;\n",
       "    }\n",
       "</style>\n",
       "<table border=\"1\" class=\"dataframe\">\n",
       "  <thead>\n",
       "    <tr style=\"text-align: right;\">\n",
       "      <th></th>\n",
       "      <th>Evaluation</th>\n",
       "      <th>halfmove_clock</th>\n",
       "      <th>fullmove_num</th>\n",
       "    </tr>\n",
       "  </thead>\n",
       "  <tbody>\n",
       "    <tr>\n",
       "      <th>count</th>\n",
       "      <td>1.295804e+07</td>\n",
       "      <td>1.295804e+07</td>\n",
       "      <td>1.295804e+07</td>\n",
       "    </tr>\n",
       "    <tr>\n",
       "      <th>mean</th>\n",
       "      <td>4.485233e+01</td>\n",
       "      <td>2.525350e+00</td>\n",
       "      <td>3.039877e+01</td>\n",
       "    </tr>\n",
       "    <tr>\n",
       "      <th>std</th>\n",
       "      <td>8.079110e+02</td>\n",
       "      <td>4.783048e+00</td>\n",
       "      <td>1.519848e+01</td>\n",
       "    </tr>\n",
       "    <tr>\n",
       "      <th>min</th>\n",
       "      <td>-1.531200e+04</td>\n",
       "      <td>0.000000e+00</td>\n",
       "      <td>1.000000e+00</td>\n",
       "    </tr>\n",
       "    <tr>\n",
       "      <th>25%</th>\n",
       "      <td>-6.900000e+01</td>\n",
       "      <td>0.000000e+00</td>\n",
       "      <td>1.900000e+01</td>\n",
       "    </tr>\n",
       "    <tr>\n",
       "      <th>50%</th>\n",
       "      <td>1.300000e+01</td>\n",
       "      <td>1.000000e+00</td>\n",
       "      <td>2.800000e+01</td>\n",
       "    </tr>\n",
       "    <tr>\n",
       "      <th>75%</th>\n",
       "      <td>1.410000e+02</td>\n",
       "      <td>3.000000e+00</td>\n",
       "      <td>3.800000e+01</td>\n",
       "    </tr>\n",
       "    <tr>\n",
       "      <th>max</th>\n",
       "      <td>1.531900e+04</td>\n",
       "      <td>1.880000e+02</td>\n",
       "      <td>2.010000e+02</td>\n",
       "    </tr>\n",
       "  </tbody>\n",
       "</table>\n",
       "</div>"
      ],
      "text/plain": [
       "         Evaluation  halfmove_clock  fullmove_num\n",
       "count  1.295804e+07    1.295804e+07  1.295804e+07\n",
       "mean   4.485233e+01    2.525350e+00  3.039877e+01\n",
       "std    8.079110e+02    4.783048e+00  1.519848e+01\n",
       "min   -1.531200e+04    0.000000e+00  1.000000e+00\n",
       "25%   -6.900000e+01    0.000000e+00  1.900000e+01\n",
       "50%    1.300000e+01    1.000000e+00  2.800000e+01\n",
       "75%    1.410000e+02    3.000000e+00  3.800000e+01\n",
       "max    1.531900e+04    1.880000e+02  2.010000e+02"
      ]
     },
     "execution_count": 16,
     "metadata": {},
     "output_type": "execute_result"
    }
   ],
   "source": [
    "df.describe()"
   ]
  },
  {
   "cell_type": "code",
   "execution_count": 19,
   "id": "539d02e9",
   "metadata": {},
   "outputs": [
    {
     "data": {
      "image/png": "[encoded data removed]",
      "text/plain": [
       "<Figure size 1200x800 with 4 Axes>"
      ]
     },
     "metadata": {},
     "output_type": "display_data"
    }
   ],
   "source": [
    "import matplotlib.pyplot as plt\n",
    "\n",
    "# extra code – the next 5 lines define the default font sizes\n",
    "plt.rc('font', size=14)\n",
    "plt.rc('axes', labelsize=14, titlesize=14)\n",
    "plt.rc('legend', fontsize=14)\n",
    "plt.rc('xtick', labelsize=10)\n",
    "plt.rc('ytick', labelsize=10)\n",
    "\n",
    "df.hist(bins=50, figsize=(12, 8))\n",
    "plt.show()"
   ]
  },
  {
   "cell_type": "code",
   "execution_count": null,
   "id": "b7c81dbf",
   "metadata": {},
   "outputs": [],
   "source": [
    "import numpy as np\n",
    "\n",
    "def shuffle_and_split_data(data, test_ratio):\n",
    "    shuffled_indices = np.random.permutation(len(data))\n",
    "    test_set_size = int(len(data) * test_ratio)\n",
    "    test_indices = shuffled_indices[:test_set_size]\n",
    "    train_indices = shuffled_indices[test_set_size:]\n",
    "    return data.iloc[train_indices], data.iloc[test_indices]"
   ]
  },
  {
   "cell_type": "code",
   "execution_count": null,
   "id": "79b6ba4c",
   "metadata": {},
   "outputs": [],
   "source": [
    "train_set, test_set = shuffle_and_split_data(df, 0.2)\n",
    "len(train_set)\n",
    "len(test_set)"
   ]
  },
  {
   "cell_type": "code",
   "execution_count": null,
   "id": "db36a191",
   "metadata": {},
   "outputs": [],
   "source": [
    "np.random.seed(42)"
   ]
  },
  {
   "cell_type": "code",
   "execution_count": null,
   "id": "71a24ea2",
   "metadata": {},
   "outputs": [],
   "source": []
  },
  {
   "cell_type": "code",
   "execution_count": null,
   "id": "71937b2e",
   "metadata": {},
   "outputs": [],
   "source": []
  },
  {
   "cell_type": "code",
   "execution_count": null,
   "id": "6d1c6708",
   "metadata": {},
   "outputs": [],
   "source": []
  }
 ],
 "metadata": {
  "kernelspec": {
   "display_name": "Python 3 (ipykernel)",
   "language": "python",
   "name": "python3"
  },
  "language_info": {
   "codemirror_mode": {
    "name": "ipython",
    "version": 3
   },
   "file_extension": ".py",
   "mimetype": "text/x-python",
   "name": "python",
   "nbconvert_exporter": "python",
   "pygments_lexer": "ipython3",
   "version": "3.11.5"
  }
 },
 "nbformat": 4,
 "nbformat_minor": 5
}
