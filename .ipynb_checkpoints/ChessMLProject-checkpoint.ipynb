{
 "cells": [
  {
   "cell_type": "code",
   "execution_count": null,
   "id": "c37e46e8-6d01-48da-978a-6a3023b8b85d",
   "metadata": {},
   "outputs": [],
   "source": [
    "import sklearn\n",
    "import numpy as np\n",
    "import pandas as pd\n",
    "import matplotlib.pyplot as plt\n",
    "from sklearn.model_selection import train_test_split\n",
    "from sklearn.preprocessing import StandardScaler\n",
    "from sklearn.linear_model import LinearRegression\n",
    "from sklearn.metrics import mean_squared_error \n",
    "from sklearn.model_selection import cross_val_score\n",
    "import math"
   ]
  },
  {
   "cell_type": "code",
   "execution_count": null,
   "id": "d50e5c16-b6e0-495a-a57f-b3317d0fffa7",
   "metadata": {},
   "outputs": [],
   "source": [
    "df = pd.read_csv(\"chessData.csv\")\n",
    "df.head()"
   ]
  },
  {
   "cell_type": "code",
   "execution_count": null,
   "id": "9e68d8c0-29ad-41cf-a4ac-c96b305cc372",
   "metadata": {},
   "outputs": [],
   "source": [
    "df.info()"
   ]
  },
  {
   "cell_type": "code",
   "execution_count": null,
   "id": "ffbdc21e-f566-4ce5-9936-b109bf2f2042",
   "metadata": {},
   "outputs": [],
   "source": [
    "df[\"FEN\"]"
   ]
  },
  {
   "cell_type": "code",
   "execution_count": null,
   "id": "d73d644f-db50-4199-ad9c-a55f5f46739b",
   "metadata": {},
   "outputs": [],
   "source": [
    "df[[\"row1\", \"row2\", \"row3\", \"row4\", \"row5\", \"row6\", \"row7\", \"leftover_data\"]] = df[\"FEN\"].str.split('/', expand=True)\n",
    "# df.drop(\"FEN\")\n",
    "df.head()"
   ]
  },
  {
   "cell_type": "code",
   "execution_count": null,
   "id": "172f9128-d104-4b64-be4e-ad8385c8fa21",
   "metadata": {},
   "outputs": [],
   "source": [
    "df[\"row8\",\"active_color\", \"castle\", \"en_passant\", \"halfmove_clock\", \"fullmove_num\"] = df[\"leftover_data\"].str.split(\" \", expand=True)\n",
    "df.drop(\"leftover_data\")\n",
    "df.head()"
   ]
  }
 ],
 "metadata": {
  "kernelspec": {
   "display_name": "Python 3 (ipykernel)",
   "language": "python",
   "name": "python3"
  },
  "language_info": {
   "codemirror_mode": {
    "name": "ipython",
    "version": 3
   },
   "file_extension": ".py",
   "mimetype": "text/x-python",
   "name": "python",
   "nbconvert_exporter": "python",
   "pygments_lexer": "ipython3",
   "version": "3.11.7"
  }
 },
 "nbformat": 4,
 "nbformat_minor": 5
}
