{
 "cells": [
  {
   "cell_type": "code",
   "execution_count": 22,
   "id": "c37e46e8-6d01-48da-978a-6a3023b8b85d",
   "metadata": {},
   "outputs": [
    {
     "name": "stdout",
     "output_type": "stream",
     "text": [
      "WARNING:tensorflow:From C:\\Users\\Matthew Cutrona\\.conda\\envs\\AML\\Lib\\site-packages\\keras\\src\\losses.py:2976: The name tf.losses.sparse_softmax_cross_entropy is deprecated. Please use tf.compat.v1.losses.sparse_softmax_cross_entropy instead.\n",
      "\n"
     ]
    }
   ],
   "source": [
    "import sklearn\n",
    "import numpy as np\n",
    "import pandas as pd\n",
    "import matplotlib.pyplot as plt\n",
    "import tensorflow as tf\n",
    "from tensorflow.keras.models import Sequential\n",
    "from tensorflow.keras.layers import Dense\n",
    "from tensorflow.keras.activations import linear, relu, sigmoid\n",
    "from sklearn.model_selection import train_test_split\n",
    "from sklearn.preprocessing import StandardScaler\n",
    "from sklearn.linear_model import LinearRegression\n",
    "from sklearn.metrics import mean_squared_error \n",
    "from sklearn.model_selection import cross_val_score\n",
    "import math"
   ]
  },
  {
   "cell_type": "markdown",
   "id": "8352d25b-d51a-4019-acf8-9664c721c4e5",
   "metadata": {},
   "source": [
    "## Read in Data"
   ]
  },
  {
   "cell_type": "code",
   "execution_count": 2,
   "id": "d50e5c16-b6e0-495a-a57f-b3317d0fffa7",
   "metadata": {},
   "outputs": [
    {
     "data": {
      "text/html": [
       "<div>\n",
       "<style scoped>\n",
       "    .dataframe tbody tr th:only-of-type {\n",
       "        vertical-align: middle;\n",
       "    }\n",
       "\n",
       "    .dataframe tbody tr th {\n",
       "        vertical-align: top;\n",
       "    }\n",
       "\n",
       "    .dataframe thead th {\n",
       "        text-align: right;\n",
       "    }\n",
       "</style>\n",
       "<table border=\"1\" class=\"dataframe\">\n",
       "  <thead>\n",
       "    <tr style=\"text-align: right;\">\n",
       "      <th></th>\n",
       "      <th>FEN</th>\n",
       "      <th>Evaluation</th>\n",
       "    </tr>\n",
       "  </thead>\n",
       "  <tbody>\n",
       "    <tr>\n",
       "      <th>0</th>\n",
       "      <td>rnbqkbnr/pppppppp/8/8/4P3/8/PPPP1PPP/RNBQKBNR ...</td>\n",
       "      <td>-10</td>\n",
       "    </tr>\n",
       "    <tr>\n",
       "      <th>1</th>\n",
       "      <td>rnbqkbnr/pppp1ppp/4p3/8/4P3/8/PPPP1PPP/RNBQKBN...</td>\n",
       "      <td>+56</td>\n",
       "    </tr>\n",
       "    <tr>\n",
       "      <th>2</th>\n",
       "      <td>rnbqkbnr/pppp1ppp/4p3/8/3PP3/8/PPP2PPP/RNBQKBN...</td>\n",
       "      <td>-9</td>\n",
       "    </tr>\n",
       "    <tr>\n",
       "      <th>3</th>\n",
       "      <td>rnbqkbnr/ppp2ppp/4p3/3p4/3PP3/8/PPP2PPP/RNBQKB...</td>\n",
       "      <td>+52</td>\n",
       "    </tr>\n",
       "    <tr>\n",
       "      <th>4</th>\n",
       "      <td>rnbqkbnr/ppp2ppp/4p3/3p4/3PP3/8/PPPN1PPP/R1BQK...</td>\n",
       "      <td>-26</td>\n",
       "    </tr>\n",
       "  </tbody>\n",
       "</table>\n",
       "</div>"
      ],
      "text/plain": [
       "                                                 FEN Evaluation\n",
       "0  rnbqkbnr/pppppppp/8/8/4P3/8/PPPP1PPP/RNBQKBNR ...        -10\n",
       "1  rnbqkbnr/pppp1ppp/4p3/8/4P3/8/PPPP1PPP/RNBQKBN...        +56\n",
       "2  rnbqkbnr/pppp1ppp/4p3/8/3PP3/8/PPP2PPP/RNBQKBN...         -9\n",
       "3  rnbqkbnr/ppp2ppp/4p3/3p4/3PP3/8/PPP2PPP/RNBQKB...        +52\n",
       "4  rnbqkbnr/ppp2ppp/4p3/3p4/3PP3/8/PPPN1PPP/R1BQK...        -26"
      ]
     },
     "execution_count": 2,
     "metadata": {},
     "output_type": "execute_result"
    }
   ],
   "source": [
    "df = pd.read_csv(\"chessData.csv\")\n",
    "df.head()"
   ]
  },
  {
   "cell_type": "code",
   "execution_count": 3,
   "id": "9e68d8c0-29ad-41cf-a4ac-c96b305cc372",
   "metadata": {},
   "outputs": [
    {
     "name": "stdout",
     "output_type": "stream",
     "text": [
      "<class 'pandas.core.frame.DataFrame'>\n",
      "RangeIndex: 12958035 entries, 0 to 12958034\n",
      "Data columns (total 2 columns):\n",
      " #   Column      Dtype \n",
      "---  ------      ----- \n",
      " 0   FEN         object\n",
      " 1   Evaluation  object\n",
      "dtypes: object(2)\n",
      "memory usage: 197.7+ MB\n"
     ]
    }
   ],
   "source": [
    "df.info()"
   ]
  },
  {
   "cell_type": "code",
   "execution_count": 4,
   "id": "ffbdc21e-f566-4ce5-9936-b109bf2f2042",
   "metadata": {},
   "outputs": [
    {
     "data": {
      "text/plain": [
       "0           rnbqkbnr/pppppppp/8/8/4P3/8/PPPP1PPP/RNBQKBNR ...\n",
       "1           rnbqkbnr/pppp1ppp/4p3/8/4P3/8/PPPP1PPP/RNBQKBN...\n",
       "2           rnbqkbnr/pppp1ppp/4p3/8/3PP3/8/PPP2PPP/RNBQKBN...\n",
       "3           rnbqkbnr/ppp2ppp/4p3/3p4/3PP3/8/PPP2PPP/RNBQKB...\n",
       "4           rnbqkbnr/ppp2ppp/4p3/3p4/3PP3/8/PPPN1PPP/R1BQK...\n",
       "                                  ...                        \n",
       "12958030    r1bqkb1r/pp3ppp/1nn1p3/3pP3/3P1P2/1B3N2/PP2Q1P...\n",
       "12958031    r2qkb1r/pp1b1ppp/1nn1p3/3pP3/3P1P2/1B3N2/PP2Q1...\n",
       "12958032    r2qkb1r/pp1b1ppp/1nn1p3/3pP3/3P1P2/1BN2N2/PP2Q...\n",
       "12958033    r2qkb1r/pp1b1ppp/1n2p3/n2pP3/3P1P2/1BN2N2/PP2Q...\n",
       "12958034    r2qkb1r/pp1b1ppp/1n2p3/n2pP3/3P1P2/2N2N2/PPB1Q...\n",
       "Name: FEN, Length: 12958035, dtype: object"
      ]
     },
     "execution_count": 4,
     "metadata": {},
     "output_type": "execute_result"
    }
   ],
   "source": [
    "df[\"FEN\"]"
   ]
  },
  {
   "cell_type": "markdown",
   "id": "cd6b3abe-3405-4ac6-bf89-086a17ac8126",
   "metadata": {},
   "source": [
    "## Format Data"
   ]
  },
  {
   "cell_type": "code",
   "execution_count": 5,
   "id": "68b453fc-5f0b-4555-93a8-3e6774cf3249",
   "metadata": {},
   "outputs": [
    {
     "data": {
      "text/plain": [
       "Evaluation\n",
       " 0       1261356\n",
       " 13       157897\n",
       "-13       148689\n",
       " 46        41674\n",
       " 53        41404\n",
       "          ...   \n",
       " 5858          1\n",
       "-4756          1\n",
       "-3586          1\n",
       " 8580          1\n",
       "-4516          1\n",
       "Name: count, Length: 13432, dtype: int64"
      ]
     },
     "execution_count": 5,
     "metadata": {},
     "output_type": "execute_result"
    }
   ],
   "source": [
    "df = df[~df['Evaluation'].str.startswith('#')]\n",
    "df['Evaluation'] = df['Evaluation'].str.replace('[^\\d-]+', '', regex=True).astype(int)\n",
    "df[\"Evaluation\"].value_counts()"
   ]
  },
  {
   "cell_type": "code",
   "execution_count": 6,
   "id": "d73d644f-db50-4199-ad9c-a55f5f46739b",
   "metadata": {},
   "outputs": [],
   "source": [
    "df[[\"row1\", \"row2\", \"row3\", \"row4\", \"row5\", \"row6\", \"row7\", \"leftover_data\"]] = df[\"FEN\"].str.split('/', expand=True)"
   ]
  },
  {
   "cell_type": "code",
   "execution_count": 7,
   "id": "888efd1a-08a9-4175-a1f6-6eff022a1ad4",
   "metadata": {},
   "outputs": [
    {
     "data": {
      "text/html": [
       "<div>\n",
       "<style scoped>\n",
       "    .dataframe tbody tr th:only-of-type {\n",
       "        vertical-align: middle;\n",
       "    }\n",
       "\n",
       "    .dataframe tbody tr th {\n",
       "        vertical-align: top;\n",
       "    }\n",
       "\n",
       "    .dataframe thead th {\n",
       "        text-align: right;\n",
       "    }\n",
       "</style>\n",
       "<table border=\"1\" class=\"dataframe\">\n",
       "  <thead>\n",
       "    <tr style=\"text-align: right;\">\n",
       "      <th></th>\n",
       "      <th>Evaluation</th>\n",
       "      <th>row1</th>\n",
       "      <th>row2</th>\n",
       "      <th>row3</th>\n",
       "      <th>row4</th>\n",
       "      <th>row5</th>\n",
       "      <th>row6</th>\n",
       "      <th>row7</th>\n",
       "      <th>leftover_data</th>\n",
       "    </tr>\n",
       "  </thead>\n",
       "  <tbody>\n",
       "    <tr>\n",
       "      <th>0</th>\n",
       "      <td>-10</td>\n",
       "      <td>rnbqkbnr</td>\n",
       "      <td>pppppppp</td>\n",
       "      <td>8</td>\n",
       "      <td>8</td>\n",
       "      <td>4P3</td>\n",
       "      <td>8</td>\n",
       "      <td>PPPP1PPP</td>\n",
       "      <td>RNBQKBNR b KQkq - 0 1</td>\n",
       "    </tr>\n",
       "    <tr>\n",
       "      <th>1</th>\n",
       "      <td>56</td>\n",
       "      <td>rnbqkbnr</td>\n",
       "      <td>pppp1ppp</td>\n",
       "      <td>4p3</td>\n",
       "      <td>8</td>\n",
       "      <td>4P3</td>\n",
       "      <td>8</td>\n",
       "      <td>PPPP1PPP</td>\n",
       "      <td>RNBQKBNR w KQkq - 0 2</td>\n",
       "    </tr>\n",
       "    <tr>\n",
       "      <th>2</th>\n",
       "      <td>-9</td>\n",
       "      <td>rnbqkbnr</td>\n",
       "      <td>pppp1ppp</td>\n",
       "      <td>4p3</td>\n",
       "      <td>8</td>\n",
       "      <td>3PP3</td>\n",
       "      <td>8</td>\n",
       "      <td>PPP2PPP</td>\n",
       "      <td>RNBQKBNR b KQkq - 0 2</td>\n",
       "    </tr>\n",
       "    <tr>\n",
       "      <th>3</th>\n",
       "      <td>52</td>\n",
       "      <td>rnbqkbnr</td>\n",
       "      <td>ppp2ppp</td>\n",
       "      <td>4p3</td>\n",
       "      <td>3p4</td>\n",
       "      <td>3PP3</td>\n",
       "      <td>8</td>\n",
       "      <td>PPP2PPP</td>\n",
       "      <td>RNBQKBNR w KQkq - 0 3</td>\n",
       "    </tr>\n",
       "    <tr>\n",
       "      <th>4</th>\n",
       "      <td>-26</td>\n",
       "      <td>rnbqkbnr</td>\n",
       "      <td>ppp2ppp</td>\n",
       "      <td>4p3</td>\n",
       "      <td>3p4</td>\n",
       "      <td>3PP3</td>\n",
       "      <td>8</td>\n",
       "      <td>PPPN1PPP</td>\n",
       "      <td>R1BQKBNR b KQkq - 1 3</td>\n",
       "    </tr>\n",
       "  </tbody>\n",
       "</table>\n",
       "</div>"
      ],
      "text/plain": [
       "   Evaluation      row1      row2 row3 row4  row5 row6      row7  \\\n",
       "0         -10  rnbqkbnr  pppppppp    8    8   4P3    8  PPPP1PPP   \n",
       "1          56  rnbqkbnr  pppp1ppp  4p3    8   4P3    8  PPPP1PPP   \n",
       "2          -9  rnbqkbnr  pppp1ppp  4p3    8  3PP3    8   PPP2PPP   \n",
       "3          52  rnbqkbnr   ppp2ppp  4p3  3p4  3PP3    8   PPP2PPP   \n",
       "4         -26  rnbqkbnr   ppp2ppp  4p3  3p4  3PP3    8  PPPN1PPP   \n",
       "\n",
       "           leftover_data  \n",
       "0  RNBQKBNR b KQkq - 0 1  \n",
       "1  RNBQKBNR w KQkq - 0 2  \n",
       "2  RNBQKBNR b KQkq - 0 2  \n",
       "3  RNBQKBNR w KQkq - 0 3  \n",
       "4  R1BQKBNR b KQkq - 1 3  "
      ]
     },
     "execution_count": 7,
     "metadata": {},
     "output_type": "execute_result"
    }
   ],
   "source": [
    "df.drop(columns=['FEN'], inplace=True)\n",
    "df.head()"
   ]
  },
  {
   "cell_type": "code",
   "execution_count": 8,
   "id": "172f9128-d104-4b64-be4e-ad8385c8fa21",
   "metadata": {},
   "outputs": [],
   "source": [
    "df[[\"row8\",\"active_color\", \"castle\", \"en_passant\", \"halfmove_clock\", \"fullmove_num\"]] = df[\"leftover_data\"].str.split(\" \", expand=True)"
   ]
  },
  {
   "cell_type": "code",
   "execution_count": 9,
   "id": "0a175a26-3f1e-4b7a-b17e-86fa3e263b10",
   "metadata": {},
   "outputs": [],
   "source": [
    "df.drop(columns=['leftover_data'], inplace=True)"
   ]
  },
  {
   "cell_type": "code",
   "execution_count": 10,
   "id": "fe792916-b095-4102-9327-7cd2be84f494",
   "metadata": {},
   "outputs": [
    {
     "data": {
      "text/html": [
       "<div>\n",
       "<style scoped>\n",
       "    .dataframe tbody tr th:only-of-type {\n",
       "        vertical-align: middle;\n",
       "    }\n",
       "\n",
       "    .dataframe tbody tr th {\n",
       "        vertical-align: top;\n",
       "    }\n",
       "\n",
       "    .dataframe thead th {\n",
       "        text-align: right;\n",
       "    }\n",
       "</style>\n",
       "<table border=\"1\" class=\"dataframe\">\n",
       "  <thead>\n",
       "    <tr style=\"text-align: right;\">\n",
       "      <th></th>\n",
       "      <th>Evaluation</th>\n",
       "      <th>row1</th>\n",
       "      <th>row2</th>\n",
       "      <th>row3</th>\n",
       "      <th>row4</th>\n",
       "      <th>row5</th>\n",
       "      <th>row6</th>\n",
       "      <th>row7</th>\n",
       "      <th>row8</th>\n",
       "      <th>active_color</th>\n",
       "      <th>castle</th>\n",
       "      <th>en_passant</th>\n",
       "      <th>halfmove_clock</th>\n",
       "      <th>fullmove_num</th>\n",
       "    </tr>\n",
       "  </thead>\n",
       "  <tbody>\n",
       "    <tr>\n",
       "      <th>0</th>\n",
       "      <td>-10</td>\n",
       "      <td>rnbqkbnr</td>\n",
       "      <td>pppppppp</td>\n",
       "      <td>8</td>\n",
       "      <td>8</td>\n",
       "      <td>4P3</td>\n",
       "      <td>8</td>\n",
       "      <td>PPPP1PPP</td>\n",
       "      <td>RNBQKBNR</td>\n",
       "      <td>1</td>\n",
       "      <td>KQkq</td>\n",
       "      <td>-</td>\n",
       "      <td>0</td>\n",
       "      <td>1</td>\n",
       "    </tr>\n",
       "    <tr>\n",
       "      <th>1</th>\n",
       "      <td>56</td>\n",
       "      <td>rnbqkbnr</td>\n",
       "      <td>pppp1ppp</td>\n",
       "      <td>4p3</td>\n",
       "      <td>8</td>\n",
       "      <td>4P3</td>\n",
       "      <td>8</td>\n",
       "      <td>PPPP1PPP</td>\n",
       "      <td>RNBQKBNR</td>\n",
       "      <td>0</td>\n",
       "      <td>KQkq</td>\n",
       "      <td>-</td>\n",
       "      <td>0</td>\n",
       "      <td>2</td>\n",
       "    </tr>\n",
       "    <tr>\n",
       "      <th>2</th>\n",
       "      <td>-9</td>\n",
       "      <td>rnbqkbnr</td>\n",
       "      <td>pppp1ppp</td>\n",
       "      <td>4p3</td>\n",
       "      <td>8</td>\n",
       "      <td>3PP3</td>\n",
       "      <td>8</td>\n",
       "      <td>PPP2PPP</td>\n",
       "      <td>RNBQKBNR</td>\n",
       "      <td>1</td>\n",
       "      <td>KQkq</td>\n",
       "      <td>-</td>\n",
       "      <td>0</td>\n",
       "      <td>2</td>\n",
       "    </tr>\n",
       "    <tr>\n",
       "      <th>3</th>\n",
       "      <td>52</td>\n",
       "      <td>rnbqkbnr</td>\n",
       "      <td>ppp2ppp</td>\n",
       "      <td>4p3</td>\n",
       "      <td>3p4</td>\n",
       "      <td>3PP3</td>\n",
       "      <td>8</td>\n",
       "      <td>PPP2PPP</td>\n",
       "      <td>RNBQKBNR</td>\n",
       "      <td>0</td>\n",
       "      <td>KQkq</td>\n",
       "      <td>-</td>\n",
       "      <td>0</td>\n",
       "      <td>3</td>\n",
       "    </tr>\n",
       "    <tr>\n",
       "      <th>4</th>\n",
       "      <td>-26</td>\n",
       "      <td>rnbqkbnr</td>\n",
       "      <td>ppp2ppp</td>\n",
       "      <td>4p3</td>\n",
       "      <td>3p4</td>\n",
       "      <td>3PP3</td>\n",
       "      <td>8</td>\n",
       "      <td>PPPN1PPP</td>\n",
       "      <td>R1BQKBNR</td>\n",
       "      <td>1</td>\n",
       "      <td>KQkq</td>\n",
       "      <td>-</td>\n",
       "      <td>1</td>\n",
       "      <td>3</td>\n",
       "    </tr>\n",
       "  </tbody>\n",
       "</table>\n",
       "</div>"
      ],
      "text/plain": [
       "   Evaluation      row1      row2 row3 row4  row5 row6      row7      row8  \\\n",
       "0         -10  rnbqkbnr  pppppppp    8    8   4P3    8  PPPP1PPP  RNBQKBNR   \n",
       "1          56  rnbqkbnr  pppp1ppp  4p3    8   4P3    8  PPPP1PPP  RNBQKBNR   \n",
       "2          -9  rnbqkbnr  pppp1ppp  4p3    8  3PP3    8   PPP2PPP  RNBQKBNR   \n",
       "3          52  rnbqkbnr   ppp2ppp  4p3  3p4  3PP3    8   PPP2PPP  RNBQKBNR   \n",
       "4         -26  rnbqkbnr   ppp2ppp  4p3  3p4  3PP3    8  PPPN1PPP  R1BQKBNR   \n",
       "\n",
       "   active_color castle en_passant halfmove_clock fullmove_num  \n",
       "0             1   KQkq          -              0            1  \n",
       "1             0   KQkq          -              0            2  \n",
       "2             1   KQkq          -              0            2  \n",
       "3             0   KQkq          -              0            3  \n",
       "4             1   KQkq          -              1            3  "
      ]
     },
     "execution_count": 10,
     "metadata": {},
     "output_type": "execute_result"
    }
   ],
   "source": [
    "df[\"active_color\"] = df[\"active_color\"].map({\"b\": 1, \"w\": 0})\n",
    "df.head()"
   ]
  },
  {
   "cell_type": "code",
   "execution_count": 11,
   "id": "6650c41e-a82e-482f-b213-0fdb65eb59f2",
   "metadata": {},
   "outputs": [
    {
     "name": "stdout",
     "output_type": "stream",
     "text": [
      "<class 'pandas.core.frame.DataFrame'>\n",
      "Index: 12767881 entries, 0 to 12958034\n",
      "Data columns (total 14 columns):\n",
      " #   Column          Dtype \n",
      "---  ------          ----- \n",
      " 0   Evaluation      int32 \n",
      " 1   row1            object\n",
      " 2   row2            object\n",
      " 3   row3            object\n",
      " 4   row4            object\n",
      " 5   row5            object\n",
      " 6   row6            object\n",
      " 7   row7            object\n",
      " 8   row8            object\n",
      " 9   active_color    int64 \n",
      " 10  castle          object\n",
      " 11  en_passant      object\n",
      " 12  halfmove_clock  int32 \n",
      " 13  fullmove_num    int32 \n",
      "dtypes: int32(3), int64(1), object(10)\n",
      "memory usage: 1.3+ GB\n"
     ]
    }
   ],
   "source": [
    "df['halfmove_clock'] = df['halfmove_clock'].astype(int)\n",
    "df['fullmove_num'] = df['fullmove_num'].astype(int)\n",
    "df.info()"
   ]
  },
  {
   "cell_type": "code",
   "execution_count": 12,
   "id": "4849ed2b-05d0-4fbb-902d-98328a18aae1",
   "metadata": {},
   "outputs": [
    {
     "data": {
      "text/html": [
       "<div>\n",
       "<style scoped>\n",
       "    .dataframe tbody tr th:only-of-type {\n",
       "        vertical-align: middle;\n",
       "    }\n",
       "\n",
       "    .dataframe tbody tr th {\n",
       "        vertical-align: top;\n",
       "    }\n",
       "\n",
       "    .dataframe thead th {\n",
       "        text-align: right;\n",
       "    }\n",
       "</style>\n",
       "<table border=\"1\" class=\"dataframe\">\n",
       "  <thead>\n",
       "    <tr style=\"text-align: right;\">\n",
       "      <th></th>\n",
       "      <th>Evaluation</th>\n",
       "      <th>row1</th>\n",
       "      <th>row2</th>\n",
       "      <th>row3</th>\n",
       "      <th>row4</th>\n",
       "      <th>row5</th>\n",
       "      <th>row6</th>\n",
       "      <th>row7</th>\n",
       "      <th>row8</th>\n",
       "      <th>active_color</th>\n",
       "      <th>...</th>\n",
       "      <th>castle_Kk</th>\n",
       "      <th>castle_Kkq</th>\n",
       "      <th>castle_Kq</th>\n",
       "      <th>castle_Q</th>\n",
       "      <th>castle_Qk</th>\n",
       "      <th>castle_Qkq</th>\n",
       "      <th>castle_Qq</th>\n",
       "      <th>castle_k</th>\n",
       "      <th>castle_kq</th>\n",
       "      <th>castle_q</th>\n",
       "    </tr>\n",
       "  </thead>\n",
       "  <tbody>\n",
       "    <tr>\n",
       "      <th>0</th>\n",
       "      <td>-10</td>\n",
       "      <td>rnbqkbnr</td>\n",
       "      <td>pppppppp</td>\n",
       "      <td>8</td>\n",
       "      <td>8</td>\n",
       "      <td>4P3</td>\n",
       "      <td>8</td>\n",
       "      <td>PPPP1PPP</td>\n",
       "      <td>RNBQKBNR</td>\n",
       "      <td>1</td>\n",
       "      <td>...</td>\n",
       "      <td>False</td>\n",
       "      <td>False</td>\n",
       "      <td>False</td>\n",
       "      <td>False</td>\n",
       "      <td>False</td>\n",
       "      <td>False</td>\n",
       "      <td>False</td>\n",
       "      <td>False</td>\n",
       "      <td>False</td>\n",
       "      <td>False</td>\n",
       "    </tr>\n",
       "    <tr>\n",
       "      <th>1</th>\n",
       "      <td>56</td>\n",
       "      <td>rnbqkbnr</td>\n",
       "      <td>pppp1ppp</td>\n",
       "      <td>4p3</td>\n",
       "      <td>8</td>\n",
       "      <td>4P3</td>\n",
       "      <td>8</td>\n",
       "      <td>PPPP1PPP</td>\n",
       "      <td>RNBQKBNR</td>\n",
       "      <td>0</td>\n",
       "      <td>...</td>\n",
       "      <td>False</td>\n",
       "      <td>False</td>\n",
       "      <td>False</td>\n",
       "      <td>False</td>\n",
       "      <td>False</td>\n",
       "      <td>False</td>\n",
       "      <td>False</td>\n",
       "      <td>False</td>\n",
       "      <td>False</td>\n",
       "      <td>False</td>\n",
       "    </tr>\n",
       "    <tr>\n",
       "      <th>2</th>\n",
       "      <td>-9</td>\n",
       "      <td>rnbqkbnr</td>\n",
       "      <td>pppp1ppp</td>\n",
       "      <td>4p3</td>\n",
       "      <td>8</td>\n",
       "      <td>3PP3</td>\n",
       "      <td>8</td>\n",
       "      <td>PPP2PPP</td>\n",
       "      <td>RNBQKBNR</td>\n",
       "      <td>1</td>\n",
       "      <td>...</td>\n",
       "      <td>False</td>\n",
       "      <td>False</td>\n",
       "      <td>False</td>\n",
       "      <td>False</td>\n",
       "      <td>False</td>\n",
       "      <td>False</td>\n",
       "      <td>False</td>\n",
       "      <td>False</td>\n",
       "      <td>False</td>\n",
       "      <td>False</td>\n",
       "    </tr>\n",
       "    <tr>\n",
       "      <th>3</th>\n",
       "      <td>52</td>\n",
       "      <td>rnbqkbnr</td>\n",
       "      <td>ppp2ppp</td>\n",
       "      <td>4p3</td>\n",
       "      <td>3p4</td>\n",
       "      <td>3PP3</td>\n",
       "      <td>8</td>\n",
       "      <td>PPP2PPP</td>\n",
       "      <td>RNBQKBNR</td>\n",
       "      <td>0</td>\n",
       "      <td>...</td>\n",
       "      <td>False</td>\n",
       "      <td>False</td>\n",
       "      <td>False</td>\n",
       "      <td>False</td>\n",
       "      <td>False</td>\n",
       "      <td>False</td>\n",
       "      <td>False</td>\n",
       "      <td>False</td>\n",
       "      <td>False</td>\n",
       "      <td>False</td>\n",
       "    </tr>\n",
       "    <tr>\n",
       "      <th>4</th>\n",
       "      <td>-26</td>\n",
       "      <td>rnbqkbnr</td>\n",
       "      <td>ppp2ppp</td>\n",
       "      <td>4p3</td>\n",
       "      <td>3p4</td>\n",
       "      <td>3PP3</td>\n",
       "      <td>8</td>\n",
       "      <td>PPPN1PPP</td>\n",
       "      <td>R1BQKBNR</td>\n",
       "      <td>1</td>\n",
       "      <td>...</td>\n",
       "      <td>False</td>\n",
       "      <td>False</td>\n",
       "      <td>False</td>\n",
       "      <td>False</td>\n",
       "      <td>False</td>\n",
       "      <td>False</td>\n",
       "      <td>False</td>\n",
       "      <td>False</td>\n",
       "      <td>False</td>\n",
       "      <td>False</td>\n",
       "    </tr>\n",
       "  </tbody>\n",
       "</table>\n",
       "<p>5 rows × 29 columns</p>\n",
       "</div>"
      ],
      "text/plain": [
       "   Evaluation      row1      row2 row3 row4  row5 row6      row7      row8  \\\n",
       "0         -10  rnbqkbnr  pppppppp    8    8   4P3    8  PPPP1PPP  RNBQKBNR   \n",
       "1          56  rnbqkbnr  pppp1ppp  4p3    8   4P3    8  PPPP1PPP  RNBQKBNR   \n",
       "2          -9  rnbqkbnr  pppp1ppp  4p3    8  3PP3    8   PPP2PPP  RNBQKBNR   \n",
       "3          52  rnbqkbnr   ppp2ppp  4p3  3p4  3PP3    8   PPP2PPP  RNBQKBNR   \n",
       "4         -26  rnbqkbnr   ppp2ppp  4p3  3p4  3PP3    8  PPPN1PPP  R1BQKBNR   \n",
       "\n",
       "   active_color  ... castle_Kk  castle_Kkq  castle_Kq  castle_Q  castle_Qk  \\\n",
       "0             1  ...     False       False      False     False      False   \n",
       "1             0  ...     False       False      False     False      False   \n",
       "2             1  ...     False       False      False     False      False   \n",
       "3             0  ...     False       False      False     False      False   \n",
       "4             1  ...     False       False      False     False      False   \n",
       "\n",
       "   castle_Qkq  castle_Qq  castle_k  castle_kq  castle_q  \n",
       "0       False      False     False      False     False  \n",
       "1       False      False     False      False     False  \n",
       "2       False      False     False      False     False  \n",
       "3       False      False     False      False     False  \n",
       "4       False      False     False      False     False  \n",
       "\n",
       "[5 rows x 29 columns]"
      ]
     },
     "execution_count": 12,
     "metadata": {},
     "output_type": "execute_result"
    }
   ],
   "source": [
    "df[\"castle\"].value_counts()\n",
    "df = pd.get_dummies(data=df,\n",
    "               prefix=[\"castle\"],\n",
    "               columns=[\"castle\"])\n",
    "df.head()"
   ]
  },
  {
   "cell_type": "code",
   "execution_count": 13,
   "id": "5d1e6bd9-fb6e-4e0b-9bb3-db10c3f506a1",
   "metadata": {},
   "outputs": [
    {
     "name": "stdout",
     "output_type": "stream",
     "text": [
      "<class 'pandas.core.frame.DataFrame'>\n",
      "Index: 12767881 entries, 0 to 12958034\n",
      "Data columns (total 29 columns):\n",
      " #   Column          Dtype \n",
      "---  ------          ----- \n",
      " 0   Evaluation      int32 \n",
      " 1   row1            object\n",
      " 2   row2            object\n",
      " 3   row3            object\n",
      " 4   row4            object\n",
      " 5   row5            object\n",
      " 6   row6            object\n",
      " 7   row7            object\n",
      " 8   row8            object\n",
      " 9   active_color    int64 \n",
      " 10  en_passant      object\n",
      " 11  halfmove_clock  int32 \n",
      " 12  fullmove_num    int32 \n",
      " 13  castle_-        bool  \n",
      " 14  castle_K        bool  \n",
      " 15  castle_KQ       bool  \n",
      " 16  castle_KQk      bool  \n",
      " 17  castle_KQkq     bool  \n",
      " 18  castle_KQq      bool  \n",
      " 19  castle_Kk       bool  \n",
      " 20  castle_Kkq      bool  \n",
      " 21  castle_Kq       bool  \n",
      " 22  castle_Q        bool  \n",
      " 23  castle_Qk       bool  \n",
      " 24  castle_Qkq      bool  \n",
      " 25  castle_Qq       bool  \n",
      " 26  castle_k        bool  \n",
      " 27  castle_kq       bool  \n",
      " 28  castle_q        bool  \n",
      "dtypes: bool(16), int32(3), int64(1), object(9)\n",
      "memory usage: 1.4+ GB\n"
     ]
    }
   ],
   "source": [
    "df.info()"
   ]
  },
  {
   "cell_type": "markdown",
   "id": "6422b601-27aa-4b71-8ebe-abdd46989787",
   "metadata": {},
   "source": [
    "## Graph Data and Scale"
   ]
  },
  {
   "cell_type": "code",
   "execution_count": 14,
   "id": "c5383adc-5ba6-419a-bb14-e1e32014af99",
   "metadata": {},
   "outputs": [
    {
     "data": {
      "image/png": "[encoded data removed]",
      "text/plain": [
       "<Figure size 1200x800 with 4 Axes>"
      ]
     },
     "metadata": {},
     "output_type": "display_data"
    }
   ],
   "source": [
    "import matplotlib.pyplot as plt\n",
    "\n",
    "plt.rc('font', size=14)\n",
    "plt.rc('axes', labelsize=14, titlesize=14)\n",
    "plt.rc('legend', fontsize=14)\n",
    "plt.rc('xtick', labelsize=10)\n",
    "plt.rc('ytick', labelsize=10)\n",
    "\n",
    "df.hist(bins=50, figsize=(12, 8))\n",
    "plt.show()"
   ]
  },
  {
   "cell_type": "code",
   "execution_count": 15,
   "id": "d455e79b-ba66-4e0b-a4d8-caa43f450f00",
   "metadata": {},
   "outputs": [],
   "source": [
    "scaler = StandardScaler()\n",
    "cols_to_scale = [\"halfmove_clock\", \"fullmove_num\"]\n",
    "scaler.fit(df[cols_to_scale])\n",
    "df[cols_to_scale] = scaler.transform(df[cols_to_scale])"
   ]
  },
  {
   "cell_type": "code",
   "execution_count": 16,
   "id": "dd57584b-c093-40d1-b44c-e17c701df568",
   "metadata": {},
   "outputs": [
    {
     "data": {
      "image/png": "[encoded data removed]",
      "text/plain": [
       "<Figure size 1200x800 with 4 Axes>"
      ]
     },
     "metadata": {},
     "output_type": "display_data"
    }
   ],
   "source": [
    "plt.rc('font', size=14)\n",
    "plt.rc('axes', labelsize=14, titlesize=14)\n",
    "plt.rc('legend', fontsize=14)\n",
    "plt.rc('xtick', labelsize=10)\n",
    "plt.rc('ytick', labelsize=10)\n",
    "\n",
    "df.hist(bins=50, figsize=(12, 8))\n",
    "plt.show()"
   ]
  },
  {
   "cell_type": "markdown",
   "id": "74ae1002-be8f-4b17-8145-311d1ed2eb9e",
   "metadata": {},
   "source": [
    "## Create Train and Test Set"
   ]
  },
  {
   "cell_type": "code",
   "execution_count": 17,
   "id": "1b686fd6-6817-4af1-a5bf-60b5e4cdc45b",
   "metadata": {},
   "outputs": [],
   "source": [
    "x_train, x_test = train_test_split(df, test_size=0.2)"
   ]
  },
  {
   "cell_type": "code",
   "execution_count": 18,
   "id": "f84dcb3a-f97e-4322-972e-aa7e1bae8a11",
   "metadata": {},
   "outputs": [
    {
     "name": "stdout",
     "output_type": "stream",
     "text": [
      "(10214304, 29)\n",
      "(2553577, 29)\n",
      "          Evaluation     row1      row2    row3     row4   row5    row6  \\\n",
      "11713889         228      2r5   pp1q2bk  3pppnp      6p1    4P3     1P6   \n",
      "9961729         -846    r3k2r   pppbqp2  3p1n1p  b2Np1p1  2B1P3  3PB1PP   \n",
      "6626077           15  r1b1k2r  1pppqppp     5n2    p2Pp3   1nP5  P3P1P1   \n",
      "1233960          -79     r5k1    3n1pp1    1q5p     3pP3    3p4  2bB1N2   \n",
      "2643049          -43    r2q3r    p3pP1k    b5pp  P1pP1p2   2pb4     2N5   \n",
      "\n",
      "              row7     row8  active_color  ... castle_Kk  castle_Kkq  \\\n",
      "11713889  P1PQ1PPP  1R2RBK1             1  ...     False       False   \n",
      "9961729     PPP3PN    R4R1K             1  ...     False       False   \n",
      "6626077   1P1N1PBP  RQ2K1NR             1  ...     False       False   \n",
      "1233960      4QPPP     5RK1             0  ...     False       False   \n",
      "2643049   1PQ1BnPP  R1B2R1K             0  ...     False       False   \n",
      "\n",
      "          castle_Kq  castle_Q  castle_Qk  castle_Qkq  castle_Qq  castle_k  \\\n",
      "11713889      False     False      False       False      False     False   \n",
      "9961729       False     False      False       False      False     False   \n",
      "6626077       False     False      False       False      False     False   \n",
      "1233960       False     False      False       False      False     False   \n",
      "2643049       False     False      False       False      False     False   \n",
      "\n",
      "          castle_kq  castle_q  \n",
      "11713889      False     False  \n",
      "9961729        True     False  \n",
      "6626077       False     False  \n",
      "1233960       False     False  \n",
      "2643049       False     False  \n",
      "\n",
      "[5 rows x 29 columns]\n",
      "          Evaluation     row1    row2     row3    row4     row5   row6  \\\n",
      "7474763         -269     5rk1    5ppp     p3p3     1p6      3Q4  1N4P1   \n",
      "3784638         -540      4k3    5p1p    3P2p1     4P3     n1r5    6PK   \n",
      "4087050          224  2bqr1k1   r4ppp       p7   1ppP4  2P1PQP1     7P   \n",
      "12093887           0     5rk1    5p1p  2b1p1p1    3pP3  1q1P1P2  2p2N2   \n",
      "2541523          -13  rn2rbk1  2n2ppp     q2p4  2p1pN2     4PP2  2N1B3   \n",
      "\n",
      "             row7     row8  active_color  ... castle_Kk  castle_Kkq  \\\n",
      "7474763   PPrBq2P     R5K1             1  ...     False       False   \n",
      "3784638    1p1N3P      5R2             1  ...     False       False   \n",
      "4087050       PP6  2KR1B1R             0  ...     False       False   \n",
      "12093887   R1P3PP    4Q1K1             1  ...     False       False   \n",
      "2541523   PP1Q2PP   R2R2K1             1  ...     False       False   \n",
      "\n",
      "          castle_Kq  castle_Q  castle_Qk  castle_Qkq  castle_Qq  castle_k  \\\n",
      "7474763       False     False      False       False      False     False   \n",
      "3784638       False     False      False       False      False     False   \n",
      "4087050       False     False      False       False      False     False   \n",
      "12093887      False     False      False       False      False     False   \n",
      "2541523       False     False      False       False      False     False   \n",
      "\n",
      "          castle_kq  castle_q  \n",
      "7474763       False     False  \n",
      "3784638       False     False  \n",
      "4087050       False     False  \n",
      "12093887      False     False  \n",
      "2541523       False     False  \n",
      "\n",
      "[5 rows x 29 columns]\n"
     ]
    }
   ],
   "source": [
    "print(x_train.shape)\n",
    "print(x_test.shape)\n",
    "\n",
    "print(x_train.head())\n",
    "print(x_test.head())"
   ]
  },
  {
   "cell_type": "code",
   "execution_count": 19,
   "id": "aebd6ce4-a373-4bd0-8ca0-e2cd519f264b",
   "metadata": {},
   "outputs": [
    {
     "name": "stdout",
     "output_type": "stream",
     "text": [
      "             row1      row2    row3     row4   row5    row6      row7  \\\n",
      "11713889      2r5   pp1q2bk  3pppnp      6p1    4P3     1P6  P1PQ1PPP   \n",
      "9961729     r3k2r   pppbqp2  3p1n1p  b2Np1p1  2B1P3  3PB1PP    PPP3PN   \n",
      "6626077   r1b1k2r  1pppqppp     5n2    p2Pp3   1nP5  P3P1P1  1P1N1PBP   \n",
      "1233960      r5k1    3n1pp1    1q5p     3pP3    3p4  2bB1N2     4QPPP   \n",
      "2643049     r2q3r    p3pP1k    b5pp  P1pP1p2   2pb4     2N5  1PQ1BnPP   \n",
      "\n",
      "             row8  active_color en_passant  ...  castle_Kk  castle_Kkq  \\\n",
      "11713889  1R2RBK1             1          -  ...      False       False   \n",
      "9961729     R4R1K             1          -  ...      False       False   \n",
      "6626077   RQ2K1NR             1          -  ...      False       False   \n",
      "1233960      5RK1             0          -  ...      False       False   \n",
      "2643049   R1B2R1K             0          -  ...      False       False   \n",
      "\n",
      "          castle_Kq  castle_Q  castle_Qk  castle_Qkq  castle_Qq  castle_k  \\\n",
      "11713889      False     False      False       False      False     False   \n",
      "9961729       False     False      False       False      False     False   \n",
      "6626077       False     False      False       False      False     False   \n",
      "1233960       False     False      False       False      False     False   \n",
      "2643049       False     False      False       False      False     False   \n",
      "\n",
      "          castle_kq  castle_q  \n",
      "11713889      False     False  \n",
      "9961729        True     False  \n",
      "6626077       False     False  \n",
      "1233960       False     False  \n",
      "2643049       False     False  \n",
      "\n",
      "[5 rows x 28 columns]\n",
      "11713889    228\n",
      "9961729    -846\n",
      "6626077      15\n",
      "1233960     -79\n",
      "2643049     -43\n",
      "Name: Evaluation, dtype: int32\n"
     ]
    }
   ],
   "source": [
    "y_train = x_train['Evaluation'].copy()\n",
    "x_train.drop('Evaluation', axis=1, inplace=True)\n",
    "\n",
    "y_test = x_test['Evaluation'].copy()\n",
    "x_test.drop('Evaluation', axis=1, inplace=True)\n",
    "\n",
    "print(x_train.head())\n",
    "print(y_train.head())"
   ]
  },
  {
   "cell_type": "code",
   "execution_count": 36,
   "id": "afe9d516-eb42-4d92-8c3b-9759e071681b",
   "metadata": {},
   "outputs": [
    {
     "data": {
      "text/plain": [
       "array([['2r5', 'pp1q2bk', '3pppnp', ..., False, False, False],\n",
       "       ['r3k2r', 'pppbqp2', '3p1n1p', ..., False, True, False],\n",
       "       ['r1b1k2r', '1pppqppp', '5n2', ..., False, False, False],\n",
       "       ...,\n",
       "       ['8', '5k2', '1R5P', ..., False, False, False],\n",
       "       ['1r2qr1k', '6bn', '3p2p1', ..., False, False, False],\n",
       "       ['3q1Bk1', '1b3p2', 'p3p1p1', ..., False, False, False]],\n",
       "      dtype=object)"
      ]
     },
     "execution_count": 36,
     "metadata": {},
     "output_type": "execute_result"
    }
   ],
   "source": [
    "x_train_np = x_train.values\n",
    "y_train_np = y_train.values\n",
    "\n",
    "x_test_np = x_test.values\n",
    "y_test_np = y_test.values\n",
    "x_train_np"
   ]
  },
  {
   "cell_type": "markdown",
   "id": "4ca00c31-5a86-4362-81bd-0a640b820076",
   "metadata": {},
   "source": [
    "## Build and Run the Model"
   ]
  },
  {
   "cell_type": "code",
   "execution_count": 31,
   "id": "6b376703-c423-4d17-bdca-be1cf28c4a1d",
   "metadata": {},
   "outputs": [],
   "source": [
    "model = Sequential(\n",
    "    [\n",
    "        Dense(300, activation='relu'),\n",
    "        Dense(100, activation='relu'),\n",
    "        Dense(1, activation='linear')\n",
    "\n",
    "    ]\n",
    ")  "
   ]
  },
  {
   "cell_type": "code",
   "execution_count": 35,
   "id": "27eea974-420e-456f-a6dc-58e3aed01acf",
   "metadata": {},
   "outputs": [
    {
     "ename": "ValueError",
     "evalue": "Failed to convert a NumPy array to a Tensor (Unsupported object type int).",
     "output_type": "error",
     "traceback": [
      "\u001b[1;31m---------------------------------------------------------------------------\u001b[0m",
      "\u001b[1;31mValueError\u001b[0m                                Traceback (most recent call last)",
      "Cell \u001b[1;32mIn[35], line 7\u001b[0m\n\u001b[0;32m      1\u001b[0m model\u001b[38;5;241m.\u001b[39mcompile(\n\u001b[0;32m      2\u001b[0m     loss\u001b[38;5;241m=\u001b[39m\u001b[38;5;124m\"\u001b[39m\u001b[38;5;124mmean_squared_error\u001b[39m\u001b[38;5;124m\"\u001b[39m,\n\u001b[0;32m      3\u001b[0m     optimizer\u001b[38;5;241m=\u001b[39mtf\u001b[38;5;241m.\u001b[39mkeras\u001b[38;5;241m.\u001b[39moptimizers\u001b[38;5;241m.\u001b[39mAdam(\u001b[38;5;241m0.001\u001b[39m),\n\u001b[0;32m      4\u001b[0m     metrics\u001b[38;5;241m=\u001b[39m[tf\u001b[38;5;241m.\u001b[39mkeras\u001b[38;5;241m.\u001b[39mmetrics\u001b[38;5;241m.\u001b[39mmean_absolute_error]\n\u001b[0;32m      5\u001b[0m )\n\u001b[1;32m----> 7\u001b[0m model\u001b[38;5;241m.\u001b[39mfit(\n\u001b[0;32m      8\u001b[0m     x_train_np, y_train_np,\n\u001b[0;32m      9\u001b[0m     epochs\u001b[38;5;241m=\u001b[39m\u001b[38;5;241m20\u001b[39m\n\u001b[0;32m     10\u001b[0m )\n",
      "File \u001b[1;32m~\\.conda\\envs\\AML\\Lib\\site-packages\\keras\\src\\utils\\traceback_utils.py:70\u001b[0m, in \u001b[0;36mfilter_traceback.<locals>.error_handler\u001b[1;34m(*args, **kwargs)\u001b[0m\n\u001b[0;32m     67\u001b[0m     filtered_tb \u001b[38;5;241m=\u001b[39m _process_traceback_frames(e\u001b[38;5;241m.\u001b[39m__traceback__)\n\u001b[0;32m     68\u001b[0m     \u001b[38;5;66;03m# To get the full stack trace, call:\u001b[39;00m\n\u001b[0;32m     69\u001b[0m     \u001b[38;5;66;03m# `tf.debugging.disable_traceback_filtering()`\u001b[39;00m\n\u001b[1;32m---> 70\u001b[0m     \u001b[38;5;28;01mraise\u001b[39;00m e\u001b[38;5;241m.\u001b[39mwith_traceback(filtered_tb) \u001b[38;5;28;01mfrom\u001b[39;00m \u001b[38;5;28;01mNone\u001b[39;00m\n\u001b[0;32m     71\u001b[0m \u001b[38;5;28;01mfinally\u001b[39;00m:\n\u001b[0;32m     72\u001b[0m     \u001b[38;5;28;01mdel\u001b[39;00m filtered_tb\n",
      "File \u001b[1;32m~\\.conda\\envs\\AML\\Lib\\site-packages\\tensorflow\\python\\framework\\constant_op.py:103\u001b[0m, in \u001b[0;36mconvert_to_eager_tensor\u001b[1;34m(value, ctx, dtype)\u001b[0m\n\u001b[0;32m    101\u001b[0m     dtype \u001b[38;5;241m=\u001b[39m dtypes\u001b[38;5;241m.\u001b[39mas_dtype(dtype)\u001b[38;5;241m.\u001b[39mas_datatype_enum\n\u001b[0;32m    102\u001b[0m ctx\u001b[38;5;241m.\u001b[39mensure_initialized()\n\u001b[1;32m--> 103\u001b[0m \u001b[38;5;28;01mreturn\u001b[39;00m ops\u001b[38;5;241m.\u001b[39mEagerTensor(value, ctx\u001b[38;5;241m.\u001b[39mdevice_name, dtype)\n",
      "\u001b[1;31mValueError\u001b[0m: Failed to convert a NumPy array to a Tensor (Unsupported object type int)."
     ]
    }
   ],
   "source": [
    "model.compile(\n",
    "    loss=\"mean_squared_error\",\n",
    "    optimizer=tf.keras.optimizers.Adam(0.001),\n",
    "    metrics=[tf.keras.metrics.mean_absolute_error]\n",
    ")\n",
    "\n",
    "model.fit(\n",
    "    x_train_np, y_train_np,\n",
    "    epochs=20\n",
    ")"
   ]
  },
  {
   "cell_type": "code",
   "execution_count": null,
   "id": "28bb88af-87f6-46a0-82f7-92be34e3e93c",
   "metadata": {},
   "outputs": [],
   "source": []
  }
 ],
 "metadata": {
  "kernelspec": {
   "display_name": "Python 3 (ipykernel)",
   "language": "python",
   "name": "python3"
  },
  "language_info": {
   "codemirror_mode": {
    "name": "ipython",
    "version": 3
   },
   "file_extension": ".py",
   "mimetype": "text/x-python",
   "name": "python",
   "nbconvert_exporter": "python",
   "pygments_lexer": "ipython3",
   "version": "3.11.7"
  }
 },
 "nbformat": 4,
 "nbformat_minor": 5
}
